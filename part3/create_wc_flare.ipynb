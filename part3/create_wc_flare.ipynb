{
 "cells": [
  {
   "cell_type": "code",
   "execution_count": 54,
   "metadata": {},
   "outputs": [],
   "source": [
    "import csv\n",
    "import json\n",
    "import pandas"
   ]
  },
  {
   "cell_type": "code",
   "execution_count": 55,
   "metadata": {},
   "outputs": [],
   "source": [
    "def to_flare_json(df, filename):\n",
    "    \n",
    "    flare = dict()\n",
    "    d = {\"name\":\"flare\", \"children\": []}\n",
    "    \n",
    "    for line in df.values:\n",
    "        the_parent = line[2]\n",
    "        the_child = line[1]\n",
    "        child_size = line[0]\n",
    "\n",
    "        keys_list = []\n",
    "        for item in d['children']:\n",
    "            keys_list.append(item['name'])\n",
    "        if not the_parent in keys_list:\n",
    "            d['children'].append({\"name\":the_parent, \"children\":[{\"name\":the_child, \"size\":child_size}]})\n",
    "        else:\n",
    "            d['children'][keys_list.index(the_parent)]['children'].append({\"name\":the_child, \"size\":child_size})\n",
    "        \n",
    "    flare = d\n",
    "    with open(filename +'.json', 'w') as outfile:\n",
    "        json.dump(flare, outfile, indent=4)"
   ]
  },
  {
   "cell_type": "code",
   "execution_count": 58,
   "metadata": {},
   "outputs": [],
   "source": [
    "df = pandas.read_table('data/twitter', delim_whitespace=True, names=('size', 'name'), nrows =10, index_col= False)\n",
    "\n",
    "df['key'] = ['key'+str(x) for x in range(1, len(df) + 1)]\n",
    "to_flare_json(df, 'twitter_wc')\n"
   ]
  },
  {
   "cell_type": "code",
   "execution_count": null,
   "metadata": {},
   "outputs": [],
   "source": []
  }
 ],
 "metadata": {
  "kernelspec": {
   "display_name": "Python 3",
   "language": "python",
   "name": "python3"
  },
  "language_info": {
   "codemirror_mode": {
    "name": "ipython",
    "version": 3
   },
   "file_extension": ".py",
   "mimetype": "text/x-python",
   "name": "python",
   "nbconvert_exporter": "python",
   "pygments_lexer": "ipython3",
   "version": "3.7.1"
  }
 },
 "nbformat": 4,
 "nbformat_minor": 2
}
