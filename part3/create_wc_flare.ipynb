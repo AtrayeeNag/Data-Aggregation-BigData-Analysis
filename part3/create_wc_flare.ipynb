{
 "cells": [
  {
   "cell_type": "code",
   "execution_count": 54,
   "metadata": {},
   "outputs": [],
   "source": [
    "import csv\n",
    "import json\n",
    "import pandas"
   ]
  },
  {
   "cell_type": "code",
   "execution_count": 55,
   "metadata": {},
   "outputs": [],
   "source": [
    "def create_flare_json(df, filename):\n",
    "    \n",
    "    flare = dict()\n",
    "    df_json = {\"name\":\"flare\", \"children\": []}\n",
    "    \n",
    "    for row in df.values:\n",
    "        parent = row[2]\n",
    "        child = row[1]\n",
    "        size = row[0]\n",
    "\n",
    "        elem_list = []\n",
    "        for item in df_json['children']:\n",
    "            elem_list.append(item['name'])\n",
    "        if not parent in elem_list:\n",
    "            df_json['children'].append({\"name\":parent, \"children\":[{\"name\":child, \"size\":size}]})\n",
    "        else:\n",
    "            df_json['children'][elem_list.index(parent)]['children'].append({\"name\":child, \"size\":size})\n",
    "        \n",
    "    flare_json = df_json\n",
    "    with open(filename +'.json', 'w') as json_file:\n",
    "        json.dump(flare_json, json_file, indent=4)"
   ]
  },
  {
   "cell_type": "code",
   "execution_count": 58,
   "metadata": {},
   "outputs": [],
   "source": [
    "df = pandas.read_table('data/twitter', delim_whitespace=True, names=('size', 'name'), nrows =10, index_col= False)\n",
    "\n",
    "df['key'] = ['key'+str(x) for x in range(1, len(df) + 1)]\n",
    "create_flare_json(df, 'bubbles-wc')\n"
   ]
  },
  {
   "cell_type": "code",
   "execution_count": null,
   "metadata": {},
   "outputs": [],
   "source": []
  }
 ],
 "metadata": {
  "kernelspec": {
   "display_name": "Python 3",
   "language": "python",
   "name": "python3"
  },
  "language_info": {
   "codemirror_mode": {
    "name": "ipython",
    "version": 3
   },
   "file_extension": ".py",
   "mimetype": "text/x-python",
   "name": "python",
   "nbconvert_exporter": "python",
   "pygments_lexer": "ipython3",
   "version": "3.7.1"
  }
 },
 "nbformat": 4,
 "nbformat_minor": 2
}
