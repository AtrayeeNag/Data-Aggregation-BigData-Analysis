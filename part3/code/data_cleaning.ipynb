{
 "cells": [
  {
   "cell_type": "code",
   "execution_count": 3,
   "metadata": {},
   "outputs": [],
   "source": [
    "import pandas as pd\n",
    "import numpy as np\n",
    "import re\n",
    "import nltk \n",
    "import spacy"
   ]
  },
  {
   "cell_type": "code",
   "execution_count": 5,
   "metadata": {},
   "outputs": [],
   "source": [
    "\n",
    "with open(\"stop_words\") as file:\n",
    "    stop_words_list = [line.strip() for line in file]\n",
    "\n",
    "\n",
    "spacy_lemmatizer = spacy.load('en', disable=['parser', 'ner'])\n",
    "\n",
    "file_name_list = [\"amazon.csv\",\"apple.csv\",\"google.csv\",\"facebook.csv\",\"uber.csv\"]"
   ]
  },
  {
   "cell_type": "markdown",
   "metadata": {},
   "source": [
    "## Process Common Crawl"
   ]
  },
  {
   "cell_type": "code",
   "execution_count": 7,
   "metadata": {},
   "outputs": [
    {
     "name": "stdout",
     "output_type": "stream",
     "text": [
      "(120, 1)\n",
      "(120, 1)\n",
      "(120, 1)\n",
      "(120, 1)\n",
      "(120, 1)\n"
     ]
    }
   ],
   "source": [
    "for file_name in file_name_list:\n",
    "\n",
    "    data = pd.read_csv('data_files/cc/'+file_name,names=['content'],header=None)\n",
    "    print(data.shape)\n",
    "    with open('processed_data/cc/' + file_name, 'w') as f:\n",
    "        for index, row in data.iterrows():\n",
    "            rowdata = row[\"content\"]\n",
    "            file_clear = re.sub(\"(@[A-Za-z0-9]+)|([^A-Za-z \\t])|(\\w+:\\/\\/\\S+)\", \" \", rowdata.lower())\n",
    "            file_lem = spacy_lemmatizer(file_clear)\n",
    "            file_lem = \" \".join([token.lemma_ for token in file_lem])\n",
    "            tokens = nltk.word_tokenize(file_lem)\n",
    "            filtered_words = [word for word in tokens if word not in stop_words_list]\n",
    "            for item in filtered_words:\n",
    "                f.write(\"%s \" % item)\n",
    "            f.write(\"\\n \")\n",
    "    f.close()"
   ]
  },
  {
   "cell_type": "markdown",
   "metadata": {},
   "source": [
    "## process Tweets"
   ]
  },
  {
   "cell_type": "code",
   "execution_count": 43,
   "metadata": {},
   "outputs": [
    {
     "name": "stdout",
     "output_type": "stream",
     "text": [
      "(35610, 88)\n",
      "(30000, 88)\n",
      "----------\n",
      "(32804, 88)\n",
      "(30000, 88)\n",
      "----------\n",
      "(35444, 88)\n",
      "(30000, 88)\n",
      "----------\n",
      "(35997, 88)\n",
      "(30000, 88)\n",
      "----------\n",
      "(32273, 88)\n",
      "(30000, 88)\n",
      "----------\n"
     ]
    }
   ],
   "source": [
    "sample_size = 30000\n",
    "\n",
    "for file_name in file_name_list:\n",
    "    \n",
    "    data = pd.read_csv('data_files/twitter/'+file_name)\n",
    "    data['status_id'] = data['status_id'].str.strip()\n",
    "    data.drop_duplicates(subset='status_id', keep = 'last', inplace = True)\n",
    "    print(data.shape)\n",
    "    dt = data.sample(n = sample_size)\n",
    "    print(dt.shape)\n",
    "    print('----------')\n",
    "    \n",
    "    with open('processed_data/twitter/' + file_name, 'w') as f:\n",
    "        for index, row in dt.iterrows():\n",
    "                rowdata = row[\"text\"]\n",
    "                file_clear = re.sub(\"(@[A-Za-z0-9]+)|([^A-Za-z \\t])|(\\w+:\\/\\/\\S+)\", \" \", rowdata.lower())\n",
    "                file_lem = spacy_lemmatizer(file_clear)\n",
    "                file_lem = \" \".join([token.lemma_ for token in file_lem])\n",
    "                tokens = nltk.word_tokenize(file_lem)\n",
    "                filtered_words = [word for word in tokens if word not in stop_words_list]\n",
    "                for item in filtered_words:\n",
    "                    f.write(\"%s \" % item)\n",
    "                f.write(\"\\n \")\n",
    "    f.close()\n",
    "    \n",
    "\n"
   ]
  },
  {
   "cell_type": "markdown",
   "metadata": {},
   "source": [
    "## Process Nytimes data"
   ]
  },
  {
   "cell_type": "code",
   "execution_count": 42,
   "metadata": {},
   "outputs": [
    {
     "name": "stdout",
     "output_type": "stream",
     "text": [
      "(950, 3)\n",
      "(300, 3)\n",
      "(457, 3)\n",
      "(300, 3)\n",
      "(1005, 3)\n",
      "(300, 3)\n",
      "(2104, 3)\n",
      "(300, 3)\n",
      "(307, 3)\n",
      "(300, 3)\n"
     ]
    }
   ],
   "source": [
    "sample_size = 300\n",
    "for file_name in file_name_list:\n",
    "    article_df = pd.read_csv('data_files/nyt/' + file_name)\n",
    "    article_df['id'] = article_df['id'].str.strip()\n",
    "    article_df.drop_duplicates(subset='id', keep = 'last', inplace = True)\n",
    "    article_df = article_df.dropna()\n",
    "    # article_df.sort_values(\"id\", inplace = True) \n",
    "    print(article_df.shape)\n",
    "    dt = article_df.sample(n = sample_size)\n",
    "    print(dt.shape)\n",
    "    print('----------')\n",
    "    \n",
    "    with open('processed_data/nyt/' + file_name, 'w') as f:\n",
    "        for index, row in dt.iterrows():\n",
    "                rowdata = row[\"content\"]\n",
    "                file_clear = re.sub(\"(@[A-Za-z0-9]+)|([^A-Za-z \\t])|(\\w+:\\/\\/\\S+)\", \" \", rowdata.lower())\n",
    "                file_lem = spacy_lemmatizer(file_clear)\n",
    "                file_lem = \" \".join([token.lemma_ for token in file_lem])\n",
    "                tokens = nltk.word_tokenize(file_lem)\n",
    "                filtered_words = [word for word in tokens if word not in stop_words_list]\n",
    "                for item in filtered_words:\n",
    "                    f.write(\"%s \" % item)\n",
    "                f.write(\"\\n \")\n",
    "    f.close()\n",
    "    "
   ]
  },
  {
   "cell_type": "code",
   "execution_count": null,
   "metadata": {},
   "outputs": [],
   "source": []
  }
 ],
 "metadata": {
  "kernelspec": {
   "display_name": "Python 3",
   "language": "python",
   "name": "python3"
  },
  "language_info": {
   "codemirror_mode": {
    "name": "ipython",
    "version": 3
   },
   "file_extension": ".py",
   "mimetype": "text/x-python",
   "name": "python",
   "nbconvert_exporter": "python",
   "pygments_lexer": "ipython3",
   "version": "3.6.5"
  }
 },
 "nbformat": 4,
 "nbformat_minor": 2
}
