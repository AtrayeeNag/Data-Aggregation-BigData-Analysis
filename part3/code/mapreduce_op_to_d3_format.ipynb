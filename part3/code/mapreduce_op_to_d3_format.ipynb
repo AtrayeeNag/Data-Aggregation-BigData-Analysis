{
 "cells": [
  {
   "cell_type": "code",
   "execution_count": 2,
   "metadata": {},
   "outputs": [],
   "source": [
    "import csv\n",
    "import json\n",
    "import pandas"
   ]
  },
  {
   "cell_type": "markdown",
   "metadata": {},
   "source": [
    "## Word Bubble"
   ]
  },
  {
   "cell_type": "code",
   "execution_count": 55,
   "metadata": {},
   "outputs": [],
   "source": [
    "def create_flare_json(df, filename):\n",
    "    \n",
    "    flare = dict()\n",
    "    df_json = {\"name\":\"flare\", \"children\": []}\n",
    "    \n",
    "    for row in df.values:\n",
    "        parent = row[2]\n",
    "        child = row[1]\n",
    "        size = row[0]\n",
    "\n",
    "        elem_list = []\n",
    "        for item in df_json['children']:\n",
    "            elem_list.append(item['name'])\n",
    "        if not parent in elem_list:\n",
    "            df_json['children'].append({\"name\":parent, \"children\":[{\"name\":child, \"size\":size}]})\n",
    "        else:\n",
    "            df_json['children'][elem_list.index(parent)]['children'].append({\"name\":child, \"size\":size})\n",
    "        \n",
    "    flare_json = df_json\n",
    "    with open(filename +'.json', 'w') as json_file:\n",
    "        json.dump(flare_json, json_file, indent=4)"
   ]
  },
  {
   "cell_type": "code",
   "execution_count": 58,
   "metadata": {},
   "outputs": [],
   "source": [
    "df = pandas.read_table('data/co-occurance_op/twitter', delim_whitespace=True, names=('size', 'name'), nrows =10, index_col= False)\n",
    "\n",
    "df['key'] = ['key'+str(x) for x in range(1, len(df) + 1)]\n",
    "create_flare_json(df, 'bubbles-wc')\n"
   ]
  },
  {
   "cell_type": "markdown",
   "metadata": {},
   "source": [
    "# Co-occurance Matrix"
   ]
  },
  {
   "cell_type": "code",
   "execution_count": null,
   "metadata": {},
   "outputs": [],
   "source": [
    "top_keywords = [\"uber\",\"live\",\"iphone\",\"amazon\",\"time\",\"driver\",\"check\",\"watch\",\"play\",\"love\"]\n",
    "\n",
    "keyword_index = {}\n",
    "\n",
    "count = 0\n",
    "for k in top_keywords:\n",
    "    keyword_index[k] = count\n",
    "    count +=1\n",
    "    \n",
    "file_name = \"twitter\"\n",
    "\n",
    "data = pandas.read_csv('data/co-occurance_op/'+file_name, sep='\\t',header=None, names=['count','word'])\n",
    "\n",
    "json_dic ={}\n",
    "\n",
    "\n",
    "lst = []\n",
    "for index, row in data.iterrows():\n",
    "    node = {}\n",
    "#     print(row['word'])\n",
    "    in_1 = keyword_index[row['word'].split('-')[0]]\n",
    "    in_2 = keyword_index[row['word'].split('-')[1]]\n",
    "    \n",
    "    node['source'] = in_1\n",
    "    node['target'] = in_2\n",
    "    node['value'] = row['count']\n",
    "    lst.append(node)\n",
    "    \n",
    "json_dic['links'] = lst  \n",
    "\n",
    "lst = []\n",
    "for ky,vl in keyword_index.items():\n",
    "    node = {}\n",
    "    node['group'] = 'humanas'\n",
    "    node['index'] = vl\n",
    "    node['name'] = ky\n",
    "    lst.append(node)\n",
    "    \n",
    "json_dic['nodes'] = lst\n",
    "json_data = json.dumps(json_dic)\n",
    "json_data"
   ]
  }
 ],
 "metadata": {
  "kernelspec": {
   "display_name": "Python 3",
   "language": "python",
   "name": "python3"
  },
  "language_info": {
   "codemirror_mode": {
    "name": "ipython",
    "version": 3
   },
   "file_extension": ".py",
   "mimetype": "text/x-python",
   "name": "python",
   "nbconvert_exporter": "python",
   "pygments_lexer": "ipython3",
   "version": "3.6.5"
  }
 },
 "nbformat": 4,
 "nbformat_minor": 2
}
